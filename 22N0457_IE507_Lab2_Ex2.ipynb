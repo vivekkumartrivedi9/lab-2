{
  "nbformat": 4,
  "nbformat_minor": 0,
  "metadata": {
    "colab": {
      "name": "22N0457_IE507_Lab2_Ex2.ipynb",
      "provenance": [],
      "collapsed_sections": []
    },
    "kernelspec": {
      "name": "python3",
      "display_name": "Python 3"
    },
    "language_info": {
      "name": "python"
    }
  },
  "cells": [
    {
      "cell_type": "code",
      "execution_count": null,
      "metadata": {
        "id": "Trn7aMXfZfFY"
      },
      "outputs": [],
      "source": [
        "!pip install -q pyomo"
      ]
    },
    {
      "cell_type": "code",
      "source": [
        "from pyomo.environ import *"
      ],
      "metadata": {
        "id": "MShdcCs1ZoU2"
      },
      "execution_count": null,
      "outputs": []
    },
    {
      "cell_type": "code",
      "source": [
        "import numpy as np"
      ],
      "metadata": {
        "id": "u9LTbffSaIDV"
      },
      "execution_count": null,
      "outputs": []
    },
    {
      "cell_type": "code",
      "source": [
        "#no of variable\n",
        "N = 12"
      ],
      "metadata": {
        "id": "DvShhfZqaKsZ"
      },
      "execution_count": null,
      "outputs": []
    },
    {
      "cell_type": "code",
      "source": [
        "#no of constraint\n",
        "M = 5"
      ],
      "metadata": {
        "id": "zKhA7XuHaTJ-"
      },
      "execution_count": null,
      "outputs": []
    },
    {
      "cell_type": "code",
      "source": [
        "#create model\n",
        "model2 = ConcreteModel()"
      ],
      "metadata": {
        "id": "EU_mLE4yaejy"
      },
      "execution_count": null,
      "outputs": []
    },
    {
      "cell_type": "code",
      "source": [
        "# declare objective coefficient\n",
        "obj_coef_c = np.array([0.56,1.721,-9.6,-2.85,41.5,33.05,-0.75,20.5,-0.35,-31.02,50.65,6.125])"
      ],
      "metadata": {
        "id": "ZG6Vhm5Wapkr"
      },
      "execution_count": null,
      "outputs": []
    },
    {
      "cell_type": "code",
      "source": [
        "#declare constraint coefficient\n",
        "constr_coef_A = np.array([[1,-1,0,0,2,-2,1,0,0,-1,1,-2],[1,0,0,-1,0,-2,0,-1,1,0,0,-1],[-1,0,0,1,-1,2.5,-3.5,0,2,-1,1,0],[0,1,-0.45,0,-2.78,0,-3.4,0,-1,1,-1,0.25],[0,-1,1,0,1,0,1,3,-2,0,1,0]])"
      ],
      "metadata": {
        "id": "C3U5MnNSbWc6"
      },
      "execution_count": null,
      "outputs": []
    },
    {
      "cell_type": "code",
      "source": [
        "constr_rhs_b = [88.5,35.4,47.9,41.43,22.7]"
      ],
      "metadata": {
        "id": "Sp7Tw1mid0fp"
      },
      "execution_count": null,
      "outputs": []
    },
    {
      "cell_type": "code",
      "source": [
        "col_indices = np.arange(N)"
      ],
      "metadata": {
        "id": "F1GRl3Ukem6I"
      },
      "execution_count": null,
      "outputs": []
    },
    {
      "cell_type": "code",
      "source": [
        "row_indices = np.arange(M)"
      ],
      "metadata": {
        "id": "nRZKSdiZe7Wz"
      },
      "execution_count": null,
      "outputs": []
    },
    {
      "cell_type": "code",
      "source": [
        "#lower and upper bound\n",
        "lower_bound = np.array([0,0,-np.inf,-np.inf,-34,0,-67,0,-23,-5,6,1])\n",
        "upper_bound = np.array([12,503,4,np.inf,np.inf,2,20,55,23,15,np.inf,np.inf])"
      ],
      "metadata": {
        "id": "VHsRM9JTfBLn"
      },
      "execution_count": null,
      "outputs": []
    },
    {
      "cell_type": "code",
      "source": [
        "model2.x=Var(col_indices)"
      ],
      "metadata": {
        "id": "SM2prdAigKrg"
      },
      "execution_count": null,
      "outputs": []
    },
    {
      "cell_type": "code",
      "source": [
        "model2.constraints=ConstraintList()"
      ],
      "metadata": {
        "id": "5wDgSSgvqAmJ"
      },
      "execution_count": null,
      "outputs": []
    },
    {
      "cell_type": "code",
      "source": [
        "for j in row_indices:\n",
        "  model2.constraints.add(sum(model2.x[i]*constr_coef_A[j][i] for i in col_indices) <= constr_rhs_b[j])"
      ],
      "metadata": {
        "id": "fieJwo3muSCf"
      },
      "execution_count": null,
      "outputs": []
    },
    {
      "cell_type": "code",
      "source": [
        "model2.objective = Objective( expr = sum(model2.x[i]*obj_coef_c[i] for i in col_indices),sense=minimize)"
      ],
      "metadata": {
        "id": "A16vGjEDv9zL"
      },
      "execution_count": null,
      "outputs": []
    },
    {
      "cell_type": "code",
      "source": [
        "#set lower bound and upper bound for variable\n",
        "for i in col_indices:\n",
        "  model2.x[i].setlb(lower_bound[i])\n",
        "  model2.x[i].setub(upper_bound[i])"
      ],
      "metadata": {
        "id": "uxQ7cOjX3v61"
      },
      "execution_count": null,
      "outputs": []
    },
    {
      "cell_type": "code",
      "source": [
        "model2.pprint()"
      ],
      "metadata": {
        "colab": {
          "base_uri": "https://localhost:8080/"
        },
        "id": "zSbo5f4-4_xu",
        "outputId": "5d5780f7-d2b0-4c09-a121-7110b74fc9ca"
      },
      "execution_count": null,
      "outputs": [
        {
          "output_type": "stream",
          "name": "stdout",
          "text": [
            "2 Set Declarations\n",
            "    constraints_index : Size=1, Index=None, Ordered=Insertion\n",
            "        Key  : Dimen : Domain : Size : Members\n",
            "        None :     1 :    Any :    5 : {1, 2, 3, 4, 5}\n",
            "    x_index : Size=1, Index=None, Ordered=False\n",
            "        Key  : Dimen : Domain : Size : Members\n",
            "        None :     1 :    Any :   12 : {0, 1, 2, 3, 4, 5, 6, 7, 8, 9, 10, 11}\n",
            "\n",
            "1 Var Declarations\n",
            "    x : Size=12, Index=x_index\n",
            "        Key : Lower : Value : Upper : Fixed : Stale : Domain\n",
            "          0 :   0.0 :  None :  12.0 : False :  True :  Reals\n",
            "          1 :   0.0 :  None : 503.0 : False :  True :  Reals\n",
            "          2 :  None :  None :   4.0 : False :  True :  Reals\n",
            "          3 :  None :  None :  None : False :  True :  Reals\n",
            "          4 : -34.0 :  None :  None : False :  True :  Reals\n",
            "          5 :   0.0 :  None :   2.0 : False :  True :  Reals\n",
            "          6 : -67.0 :  None :  20.0 : False :  True :  Reals\n",
            "          7 :   0.0 :  None :  55.0 : False :  True :  Reals\n",
            "          8 : -23.0 :  None :  23.0 : False :  True :  Reals\n",
            "          9 :  -5.0 :  None :  15.0 : False :  True :  Reals\n",
            "         10 :   6.0 :  None :  None : False :  True :  Reals\n",
            "         11 :   1.0 :  None :  None : False :  True :  Reals\n",
            "\n",
            "1 Objective Declarations\n",
            "    objective : Size=1, Index=None, Active=True\n",
            "        Key  : Active : Sense    : Expression\n",
            "        None :   True : minimize : 0.56*x[0] + 1.721*x[1] - 9.6*x[2] - 2.85*x[3] + 41.5*x[4] + 33.05*x[5] - 0.75*x[6] + 20.5*x[7] - 0.35*x[8] - 31.02*x[9] + 50.65*x[10] + 6.125*x[11]\n",
            "\n",
            "1 Constraint Declarations\n",
            "    constraints : Size=5, Index=constraints_index, Active=True\n",
            "        Key : Lower : Body                                                                       : Upper : Active\n",
            "          1 :  -Inf :        x[0] - x[1] + 2.0*x[4] - 2.0*x[5] + x[6] - x[9] + x[10] - 2.0*x[11] :  88.5 :   True\n",
            "          2 :  -Inf :                               x[0] - x[3] - 2.0*x[5] - x[7] + x[8] - x[11] :  35.4 :   True\n",
            "          3 :  -Inf :       - x[0] + x[3] - x[4] + 2.5*x[5] - 3.5*x[6] + 2.0*x[8] - x[9] + x[10] :  47.9 :   True\n",
            "          4 :  -Inf : x[1] - 0.45*x[2] - 2.78*x[4] - 3.4*x[6] - x[8] + x[9] - x[10] + 0.25*x[11] : 41.43 :   True\n",
            "          5 :  -Inf :                  - x[1] + x[2] + x[4] + x[6] + 3.0*x[7] - 2.0*x[8] + x[10] :  22.7 :   True\n",
            "\n",
            "5 Declarations: x_index x constraints_index constraints objective\n"
          ]
        }
      ]
    },
    {
      "cell_type": "code",
      "source": [
        "!apt-get install -q -yy glpk-utils"
      ],
      "metadata": {
        "colab": {
          "base_uri": "https://localhost:8080/"
        },
        "id": "J1s-t0bK5C9G",
        "outputId": "3149534f-75b3-4b96-d65d-5ebab6ac845b"
      },
      "execution_count": null,
      "outputs": [
        {
          "output_type": "stream",
          "name": "stdout",
          "text": [
            "Reading package lists...\n",
            "Building dependency tree...\n",
            "Reading state information...\n",
            "glpk-utils is already the newest version (4.65-1).\n",
            "The following package was automatically installed and is no longer required:\n",
            "  libnvidia-common-460\n",
            "Use 'apt autoremove' to remove it.\n",
            "0 upgraded, 0 newly installed, 0 to remove and 19 not upgraded.\n"
          ]
        }
      ]
    },
    {
      "cell_type": "code",
      "source": [
        "SolverFactory('glpk',excutable='/usr/bin/glpsol').solve(model2).write()"
      ],
      "metadata": {
        "colab": {
          "base_uri": "https://localhost:8080/"
        },
        "id": "Qd-TjEqO53Qe",
        "outputId": "5299ad9d-4443-40ad-ab66-864e33a6b626"
      },
      "execution_count": null,
      "outputs": [
        {
          "output_type": "stream",
          "name": "stdout",
          "text": [
            "# ==========================================================\n",
            "# = Solver Results                                         =\n",
            "# ==========================================================\n",
            "# ----------------------------------------------------------\n",
            "#   Problem Information\n",
            "# ----------------------------------------------------------\n",
            "Problem: \n",
            "- Name: unknown\n",
            "  Lower bound: -1951.831\n",
            "  Upper bound: -1951.831\n",
            "  Number of objectives: 1\n",
            "  Number of constraints: 6\n",
            "  Number of variables: 13\n",
            "  Number of nonzeros: 38\n",
            "  Sense: minimize\n",
            "# ----------------------------------------------------------\n",
            "#   Solver Information\n",
            "# ----------------------------------------------------------\n",
            "Solver: \n",
            "- Status: ok\n",
            "  Termination condition: optimal\n",
            "  Statistics: \n",
            "    Branch and bound: \n",
            "      Number of bounded subproblems: 0\n",
            "      Number of created subproblems: 0\n",
            "  Error rc: 0\n",
            "  Time: 0.01495218276977539\n",
            "# ----------------------------------------------------------\n",
            "#   Solution Information\n",
            "# ----------------------------------------------------------\n",
            "Solution: \n",
            "- number of solutions: 0\n",
            "  number of solutions displayed: 0\n"
          ]
        }
      ]
    },
    {
      "cell_type": "markdown",
      "source": [
        ""
      ],
      "metadata": {
        "id": "tTSXTzZ-_OGF"
      }
    },
    {
      "cell_type": "code",
      "source": [
        "from pyomo.core.base import constraint\n",
        "print('\\n objective value',model2.objective())\n",
        "print('\\n variables')\n",
        "for i in col_indices:\n",
        "  print('x[',i,'] = ',model2.x[i].value)\n",
        "model2.constraints.display()\n"
      ],
      "metadata": {
        "colab": {
          "base_uri": "https://localhost:8080/"
        },
        "id": "uNOUrTYD6PST",
        "outputId": "7ed8c676-f360-4e72-af12-f56f4b91cbc7"
      },
      "execution_count": null,
      "outputs": [
        {
          "output_type": "stream",
          "name": "stdout",
          "text": [
            "\n",
            " objective value -1951.8309999999997\n",
            "\n",
            " variables\n",
            "x[ 0 ] =  12.0\n",
            "x[ 1 ] =  0.0\n",
            "x[ 2 ] =  4.0\n",
            "x[ 3 ] =  119.82\n",
            "x[ 4 ] =  -34.0\n",
            "x[ 5 ] =  0.0\n",
            "x[ 6 ] =  20.0\n",
            "x[ 7 ] =  0.0\n",
            "x[ 8 ] =  -7.46000000000002\n",
            "x[ 9 ] =  15.0\n",
            "x[ 10 ] =  6.0\n",
            "x[ 11 ] =  1.0\n",
            "constraints : Size=5\n",
            "    Key : Lower : Body                : Upper\n",
            "      1 :  None :               -47.0 :  88.5\n",
            "      2 :  None : -116.28000000000002 :  35.4\n",
            "      3 :  None :   47.89999999999995 :  47.9\n",
            "      4 :  None :   41.43000000000002 : 41.43\n",
            "      5 :  None :   10.92000000000004 :  22.7\n"
          ]
        }
      ]
    },
    {
      "cell_type": "markdown",
      "source": [
        "$ \\Huge{solution \\ \\ of \\ \\ 2.1} \\\\ \\\\ \\huge{optimal \\ \\ value \\ \\ of \\ \\ objective \\ \\ function = -1951.8309999999997} \\\\ \\large{optimal \\ \\ value \\ \\ of  \\ \\ decision \\ \\ \\ variable } \\\\  x_1 =12.0 \\\\ x_2 = 0.00 \\\\ x_3 = 4.0 \\\\ x_4 = 119.82 \\\\ x_5 = -34.0  \\\\ x_6 = 0.00 \\\\ x_7 = 20.0  \\\\ x_8 =0.00 \\\\ x_9 = -7.46000000000002 \\\\ x_10 = 15.0 \\\\ x_11 = 6.0 \\\\ x_12 = 1.0$"
      ],
      "metadata": {
        "id": "CyPoDdt69uus"
      }
    },
    {
      "cell_type": "markdown",
      "source": [
        "$ \\Huge{solution \\ \\ of \\ \\ 2.2} \\\\ \\\\ \\text{constraint1  is  inactive  since  constraint1  < 88.5} \\\\ \\text{constraint2  is  inactive  since  constraint2 < 35.4} \\\\ \\text{constraint3  is  active  since  constraint3 =47.9} \\\\ \\text{constraint4  is  active  since  constraint4 = 41.43} \\\\ \\text{constraint5  is  inactive  since  constraint5 < 22.7} $"
      ],
      "metadata": {
        "id": "Jr8shzPW_nu-"
      }
    }
  ]
}