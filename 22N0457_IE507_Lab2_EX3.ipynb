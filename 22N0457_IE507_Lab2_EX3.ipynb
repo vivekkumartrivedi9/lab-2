{
  "nbformat": 4,
  "nbformat_minor": 0,
  "metadata": {
    "colab": {
      "name": "22N0457_IE507_Lab2_EX3.ipynb",
      "provenance": [],
      "collapsed_sections": []
    },
    "kernelspec": {
      "name": "python3",
      "display_name": "Python 3"
    },
    "language_info": {
      "name": "python"
    }
  },
  "cells": [
    {
      "cell_type": "markdown",
      "source": [
        "  $ \\\\ \\huge{solution \\ of \\ 3.1 } \\\\ \\text{ let  purchase   cost  of  A-1   A-2  ...... A-10  be} \\ x_1 \\  x_2 \\  x_3 ........x_10 \\  \\text{and   in   house   cost   of   alloy   be   y_1   y_2 ........y_10} \\\\ \\ \\large{objective  \\  \\ function \\  \\  is \\  \\ :-} \\\\ \\text{min} \\\\  82x_1 + 102x_2 + 150x_3 + 105x_4 + 95x_5 + 84x_6 + 88x_7 + 125x_8 + 70x_9 + 64x_10 + 45y_1 + 48y_2 +55y_3 + 65y_4 + 54y_5 + 37.5y_6 + 35y_7 + 52.5y_8 + 47y_9 + 28y_10 \\\\ \\large{costraint \\ \\ is \\ \\ :-} \\\\  0.20x_1 + 0.25x_2 + 0.1x_3 + 0.3x_4 + 0.125x_5 + 0.35x_6 + 0.475x_7 + 0.1x_8 + 0.2x_9 + 0.5x_10 + 0.20y_1 + 0.25y_2 + 0.1y_3 + 0.3y_4 + 0.125y_5 + 0.35y_6 + 0.475y_7 + 0.1y_8 + 0.2y_9 + 0.5y_10 = 116.87500000000001\n",
        "  \\\\  0.75x_1 + 0.65x_2 + 0.7x_3 + 0.6x_4 + 0.85x_5 + 0.525x_6 + 0.425x_7 + 0.4x_8 + 0.35x_9 + 0.4x_10 + 0.75y_1 + 0.65y_2 + 0.7y_3 + 0.6y_4 + 0.85y_5 + 0.525y_6 + 0.425y_7 + 0.4y_8 + 0.35y_9 + 0.4y_10 = 244.37499999999997 \\\\ 0.05x_1 + 0.1x_2 + 0.2x_3 + 0.1x_4 + 0.025x_5 + 0.125x_6 + 0.1x_7 + 0.5x_8 + 0.45x_9 + 0.1x_10 + 0.05y_1 + 0.1y_2 + 0.2y_3 + 0.1y_4 + 0.025y_5 + 0.125y_6 + 0.1y_7 + 0.5y_8 + 0.45y_9 + 0.1y_10 = 63.75 \\\\ \\  \\text{ lower bound of decision variable is [0,0,0,0,0,0,0,0,0,0,0,0,0,0,0,0,0,0,0,0]} \\\\ \\text{upper bound of decision variable is [∞,∞,∞,∞,∞,∞,∞,∞,∞,∞,15,16,9,17.5,12,18.5,2.5,0.5,9.5,8]}$"
      ],
      "metadata": {
        "id": "IffrTlRu8GL3"
      }
    },
    {
      "cell_type": "code",
      "execution_count": null,
      "metadata": {
        "colab": {
          "base_uri": "https://localhost:8080/"
        },
        "id": "wpBDJ88l7--g",
        "outputId": "658eba66-80a1-4146-c725-cd37306c4aa1"
      },
      "outputs": [
        {
          "output_type": "stream",
          "name": "stdout",
          "text": [
            "\u001b[K     |████████████████████████████████| 9.6 MB 5.5 MB/s \n",
            "\u001b[K     |████████████████████████████████| 49 kB 6.0 MB/s \n",
            "\u001b[?25h"
          ]
        }
      ],
      "source": [
        "!pip install -q pyomo"
      ]
    },
    {
      "cell_type": "code",
      "source": [
        "from pyomo.environ import *"
      ],
      "metadata": {
        "id": "UTCRwSKR8TQo"
      },
      "execution_count": null,
      "outputs": []
    },
    {
      "cell_type": "code",
      "source": [
        "import numpy as np"
      ],
      "metadata": {
        "id": "gyULMGWL8bnq"
      },
      "execution_count": null,
      "outputs": []
    },
    {
      "cell_type": "code",
      "source": [
        "# no of variable\n",
        "P = 20"
      ],
      "metadata": {
        "id": "Zx9wtzfX8gez"
      },
      "execution_count": null,
      "outputs": []
    },
    {
      "cell_type": "code",
      "source": [
        "#no of constraint\n",
        "Q = 3"
      ],
      "metadata": {
        "id": "M5vIy9wg8jSg"
      },
      "execution_count": null,
      "outputs": []
    },
    {
      "cell_type": "code",
      "source": [
        "#create model\n",
        "model3 = ConcreteModel()"
      ],
      "metadata": {
        "id": "A3wG8-IZ8mii"
      },
      "execution_count": null,
      "outputs": []
    },
    {
      "cell_type": "code",
      "source": [
        "# declare objective coefficient\n",
        "obj_coef_c1 = np.array([82,102,150,105,95,84,88,125,70,64,45,48,55,65,54,37.5,35,52.5,47,28])"
      ],
      "metadata": {
        "id": "mkqsa1vy8qhv"
      },
      "execution_count": null,
      "outputs": []
    },
    {
      "cell_type": "code",
      "source": [
        "#declare constraint coefficient4\n",
        "constr_coef_A1 = np.array([[0.2,0.25,0.1,0.3,0.125,0.35,0.475,0.1,0.2,0.5,0.2,0.25,0.1,0.3,0.125,0.35,0.475,0.1,0.2,0.5],[0.75,0.65,0.7,0.6,0.85,0.525,0.425,0.4,0.35,0.4,0.75,0.65,0.7,0.6,0.85,0.525,0.425,0.4,0.35,0.4],[0.05,0.1,0.2,0.1,0.025,0.125,0.1,0.5,0.45,0.1,0.05,0.1,0.2,0.1,0.025,0.125,0.1,0.5,0.45,0.1]])"
      ],
      "metadata": {
        "id": "HDEYX1ln8vq2"
      },
      "execution_count": null,
      "outputs": []
    },
    {
      "cell_type": "code",
      "source": [
        "col_indices1 = np.arange(P)"
      ],
      "metadata": {
        "id": "8tAUp2mR80vp"
      },
      "execution_count": null,
      "outputs": []
    },
    {
      "cell_type": "code",
      "source": [
        "row_indices1 = np.arange(Q)"
      ],
      "metadata": {
        "id": "jnzUtQSx87ks"
      },
      "execution_count": null,
      "outputs": []
    },
    {
      "cell_type": "code",
      "source": [
        "model3.A=Var(col_indices1)"
      ],
      "metadata": {
        "id": "hgLlpDbo8_Wl"
      },
      "execution_count": null,
      "outputs": []
    },
    {
      "cell_type": "code",
      "source": [
        "model3.constraints=ConstraintList()"
      ],
      "metadata": {
        "id": "uLR1TsyC9AfW"
      },
      "execution_count": null,
      "outputs": []
    },
    {
      "cell_type": "code",
      "source": [
        "constr_rhs_b1= np.array([116.87500000000001,244.37499999999997,63.75])"
      ],
      "metadata": {
        "id": "Yq-JW14v89I5"
      },
      "execution_count": null,
      "outputs": []
    },
    {
      "cell_type": "code",
      "source": [
        "lower_bound1=[0,0,0,0,0,0,0,0,0,0,0,0,0,0,0,0,0,0,0,0]\n",
        "upper_bound1 = [np.inf,np.inf,np.inf,np.inf,np.inf,np.inf,np.inf,np.inf,np.inf,np.inf,15,16,9,17.5,12,18.5,2.5,0.5,9.5,8]"
      ],
      "metadata": {
        "id": "xBaTxOfL9J82"
      },
      "execution_count": null,
      "outputs": []
    },
    {
      "cell_type": "code",
      "source": [
        "for i in col_indices1:\n",
        "  model3.A[i].setlb(lower_bound1[i])\n",
        "  model3.A[i].setub(upper_bound1[i])"
      ],
      "metadata": {
        "id": "X39Mb2ne9QR_"
      },
      "execution_count": null,
      "outputs": []
    },
    {
      "cell_type": "code",
      "source": [
        "for j in row_indices1:\n",
        "  model3.constraints.add(sum(model3.A[i]*constr_coef_A1[j][i] for i in col_indices1) == constr_rhs_b1[j])"
      ],
      "metadata": {
        "id": "MTlBKcgH9Ty5"
      },
      "execution_count": null,
      "outputs": []
    },
    {
      "cell_type": "code",
      "source": [
        "model3.objective = Objective( expr = sum(model3.A[i]*obj_coef_c1[i] for i in col_indices1),sense=minimize)"
      ],
      "metadata": {
        "id": "1VePj2ch9ZUC"
      },
      "execution_count": null,
      "outputs": []
    },
    {
      "cell_type": "code",
      "source": [
        "model3.pprint()"
      ],
      "metadata": {
        "colab": {
          "base_uri": "https://localhost:8080/"
        },
        "id": "YKzH8eoL9h4X",
        "outputId": "5ecf5320-e6a4-4f9b-b142-b90bb23bd3f5"
      },
      "execution_count": null,
      "outputs": [
        {
          "output_type": "stream",
          "name": "stdout",
          "text": [
            "2 Set Declarations\n",
            "    A_index : Size=1, Index=None, Ordered=False\n",
            "        Key  : Dimen : Domain : Size : Members\n",
            "        None :     1 :    Any :   20 : {0, 1, 2, 3, 4, 5, 6, 7, 8, 9, 10, 11, 12, 13, 14, 15, 16, 17, 18, 19}\n",
            "    constraints_index : Size=1, Index=None, Ordered=Insertion\n",
            "        Key  : Dimen : Domain : Size : Members\n",
            "        None :     1 :    Any :    3 : {1, 2, 3}\n",
            "\n",
            "1 Var Declarations\n",
            "    A : Size=20, Index=A_index\n",
            "        Key : Lower : Value : Upper : Fixed : Stale : Domain\n",
            "          0 :     0 :  None :  None : False :  True :  Reals\n",
            "          1 :     0 :  None :  None : False :  True :  Reals\n",
            "          2 :     0 :  None :  None : False :  True :  Reals\n",
            "          3 :     0 :  None :  None : False :  True :  Reals\n",
            "          4 :     0 :  None :  None : False :  True :  Reals\n",
            "          5 :     0 :  None :  None : False :  True :  Reals\n",
            "          6 :     0 :  None :  None : False :  True :  Reals\n",
            "          7 :     0 :  None :  None : False :  True :  Reals\n",
            "          8 :     0 :  None :  None : False :  True :  Reals\n",
            "          9 :     0 :  None :  None : False :  True :  Reals\n",
            "         10 :     0 :  None :    15 : False :  True :  Reals\n",
            "         11 :     0 :  None :    16 : False :  True :  Reals\n",
            "         12 :     0 :  None :     9 : False :  True :  Reals\n",
            "         13 :     0 :  None :  17.5 : False :  True :  Reals\n",
            "         14 :     0 :  None :    12 : False :  True :  Reals\n",
            "         15 :     0 :  None :  18.5 : False :  True :  Reals\n",
            "         16 :     0 :  None :   2.5 : False :  True :  Reals\n",
            "         17 :     0 :  None :   0.5 : False :  True :  Reals\n",
            "         18 :     0 :  None :   9.5 : False :  True :  Reals\n",
            "         19 :     0 :  None :     8 : False :  True :  Reals\n",
            "\n",
            "1 Objective Declarations\n",
            "    objective : Size=1, Index=None, Active=True\n",
            "        Key  : Active : Sense    : Expression\n",
            "        None :   True : minimize : 82.0*A[0] + 102.0*A[1] + 150.0*A[2] + 105.0*A[3] + 95.0*A[4] + 84.0*A[5] + 88.0*A[6] + 125.0*A[7] + 70.0*A[8] + 64.0*A[9] + 45.0*A[10] + 48.0*A[11] + 55.0*A[12] + 65.0*A[13] + 54.0*A[14] + 37.5*A[15] + 35.0*A[16] + 52.5*A[17] + 47.0*A[18] + 28.0*A[19]\n",
            "\n",
            "1 Constraint Declarations\n",
            "    constraints : Size=3, Index=constraints_index, Active=True\n",
            "        Key : Lower              : Body                                                                                                                                                                                                                                                : Upper              : Active\n",
            "          1 : 116.87500000000001 :     0.2*A[0] + 0.25*A[1] + 0.1*A[2] + 0.3*A[3] + 0.125*A[4] + 0.35*A[5] + 0.475*A[6] + 0.1*A[7] + 0.2*A[8] + 0.5*A[9] + 0.2*A[10] + 0.25*A[11] + 0.1*A[12] + 0.3*A[13] + 0.125*A[14] + 0.35*A[15] + 0.475*A[16] + 0.1*A[17] + 0.2*A[18] + 0.5*A[19] : 116.87500000000001 :   True\n",
            "          2 : 244.37499999999997 : 0.75*A[0] + 0.65*A[1] + 0.7*A[2] + 0.6*A[3] + 0.85*A[4] + 0.525*A[5] + 0.425*A[6] + 0.4*A[7] + 0.35*A[8] + 0.4*A[9] + 0.75*A[10] + 0.65*A[11] + 0.7*A[12] + 0.6*A[13] + 0.85*A[14] + 0.525*A[15] + 0.425*A[16] + 0.4*A[17] + 0.35*A[18] + 0.4*A[19] : 244.37499999999997 :   True\n",
            "          3 :              63.75 :     0.05*A[0] + 0.1*A[1] + 0.2*A[2] + 0.1*A[3] + 0.025*A[4] + 0.125*A[5] + 0.1*A[6] + 0.5*A[7] + 0.45*A[8] + 0.1*A[9] + 0.05*A[10] + 0.1*A[11] + 0.2*A[12] + 0.1*A[13] + 0.025*A[14] + 0.125*A[15] + 0.1*A[16] + 0.5*A[17] + 0.45*A[18] + 0.1*A[19] :              63.75 :   True\n",
            "\n",
            "5 Declarations: A_index A constraints_index constraints objective\n"
          ]
        }
      ]
    },
    {
      "cell_type": "code",
      "source": [
        "!apt-get install -q -yy glpk-utils"
      ],
      "metadata": {
        "colab": {
          "base_uri": "https://localhost:8080/"
        },
        "id": "VP9afTzG9swo",
        "outputId": "099fe62b-1cdf-4699-f5e1-5b0db7967625"
      },
      "execution_count": null,
      "outputs": [
        {
          "output_type": "stream",
          "name": "stdout",
          "text": [
            "Reading package lists...\n",
            "Building dependency tree...\n",
            "Reading state information...\n",
            "The following package was automatically installed and is no longer required:\n",
            "  libnvidia-common-460\n",
            "Use 'apt autoremove' to remove it.\n",
            "The following additional packages will be installed:\n",
            "  libamd2 libcolamd2 libglpk40 libsuitesparseconfig5\n",
            "Suggested packages:\n",
            "  libiodbc2-dev\n",
            "The following NEW packages will be installed:\n",
            "  glpk-utils libamd2 libcolamd2 libglpk40 libsuitesparseconfig5\n",
            "0 upgraded, 5 newly installed, 0 to remove and 19 not upgraded.\n",
            "Need to get 692 kB of archives.\n",
            "After this operation, 1,664 kB of additional disk space will be used.\n",
            "Get:1 http://archive.ubuntu.com/ubuntu bionic/main amd64 libsuitesparseconfig5 amd64 1:5.1.2-2 [9,044 B]\n",
            "Get:2 http://archive.ubuntu.com/ubuntu bionic/main amd64 libamd2 amd64 1:5.1.2-2 [19.5 kB]\n",
            "Get:3 http://archive.ubuntu.com/ubuntu bionic/main amd64 libcolamd2 amd64 1:5.1.2-2 [16.2 kB]\n",
            "Get:4 http://archive.ubuntu.com/ubuntu bionic/universe amd64 libglpk40 amd64 4.65-1 [378 kB]\n",
            "Get:5 http://archive.ubuntu.com/ubuntu bionic/universe amd64 glpk-utils amd64 4.65-1 [269 kB]\n",
            "Fetched 692 kB in 1s (731 kB/s)\n",
            "Selecting previously unselected package libsuitesparseconfig5:amd64.\n",
            "(Reading database ... 155680 files and directories currently installed.)\n",
            "Preparing to unpack .../libsuitesparseconfig5_1%3a5.1.2-2_amd64.deb ...\n",
            "Unpacking libsuitesparseconfig5:amd64 (1:5.1.2-2) ...\n",
            "Selecting previously unselected package libamd2:amd64.\n",
            "Preparing to unpack .../libamd2_1%3a5.1.2-2_amd64.deb ...\n",
            "Unpacking libamd2:amd64 (1:5.1.2-2) ...\n",
            "Selecting previously unselected package libcolamd2:amd64.\n",
            "Preparing to unpack .../libcolamd2_1%3a5.1.2-2_amd64.deb ...\n",
            "Unpacking libcolamd2:amd64 (1:5.1.2-2) ...\n",
            "Selecting previously unselected package libglpk40:amd64.\n",
            "Preparing to unpack .../libglpk40_4.65-1_amd64.deb ...\n",
            "Unpacking libglpk40:amd64 (4.65-1) ...\n",
            "Selecting previously unselected package glpk-utils.\n",
            "Preparing to unpack .../glpk-utils_4.65-1_amd64.deb ...\n",
            "Unpacking glpk-utils (4.65-1) ...\n",
            "Setting up libsuitesparseconfig5:amd64 (1:5.1.2-2) ...\n",
            "Setting up libcolamd2:amd64 (1:5.1.2-2) ...\n",
            "Setting up libamd2:amd64 (1:5.1.2-2) ...\n",
            "Setting up libglpk40:amd64 (4.65-1) ...\n",
            "Setting up glpk-utils (4.65-1) ...\n",
            "Processing triggers for libc-bin (2.27-3ubuntu1.5) ...\n",
            "Processing triggers for man-db (2.8.3-2ubuntu0.1) ...\n"
          ]
        }
      ]
    },
    {
      "cell_type": "code",
      "source": [
        "SolverFactory('glpk',excutable='/usr/bin/glpsol').solve(model3).write()"
      ],
      "metadata": {
        "colab": {
          "base_uri": "https://localhost:8080/"
        },
        "id": "POLt_Hgx9xtI",
        "outputId": "8ffe3e32-4840-4666-aa59-74beb3d4a192"
      },
      "execution_count": null,
      "outputs": [
        {
          "output_type": "stream",
          "name": "stdout",
          "text": [
            "# ==========================================================\n",
            "# = Solver Results                                         =\n",
            "# ==========================================================\n",
            "# ----------------------------------------------------------\n",
            "#   Problem Information\n",
            "# ----------------------------------------------------------\n",
            "Problem: \n",
            "- Name: unknown\n",
            "  Lower bound: 28747.1875\n",
            "  Upper bound: 28747.1875\n",
            "  Number of objectives: 1\n",
            "  Number of constraints: 4\n",
            "  Number of variables: 21\n",
            "  Number of nonzeros: 61\n",
            "  Sense: minimize\n",
            "# ----------------------------------------------------------\n",
            "#   Solver Information\n",
            "# ----------------------------------------------------------\n",
            "Solver: \n",
            "- Status: ok\n",
            "  Termination condition: optimal\n",
            "  Statistics: \n",
            "    Branch and bound: \n",
            "      Number of bounded subproblems: 0\n",
            "      Number of created subproblems: 0\n",
            "  Error rc: 0\n",
            "  Time: 0.011530876159667969\n",
            "# ----------------------------------------------------------\n",
            "#   Solution Information\n",
            "# ----------------------------------------------------------\n",
            "Solution: \n",
            "- number of solutions: 0\n",
            "  number of solutions displayed: 0\n"
          ]
        }
      ]
    },
    {
      "cell_type": "code",
      "source": [
        "print('\\n objective value',model3.objective())\n",
        "print('\\n variables')\n",
        "for i in col_indices1:\n",
        "  print('A[',i,'] = ',model3.A[i].value)\n",
        "model3.constraints.display()"
      ],
      "metadata": {
        "colab": {
          "base_uri": "https://localhost:8080/"
        },
        "id": "8zhPDZpH91A_",
        "outputId": "6013e0d8-b0f3-476e-8006-88939f53e618"
      },
      "execution_count": null,
      "outputs": [
        {
          "output_type": "stream",
          "name": "stdout",
          "text": [
            "\n",
            " objective value 28747.187500000007\n",
            "\n",
            " variables\n",
            "A[ 0 ] =  158.078125\n",
            "A[ 1 ] =  0.0\n",
            "A[ 2 ] =  0.0\n",
            "A[ 3 ] =  0.0\n",
            "A[ 4 ] =  0.0\n",
            "A[ 5 ] =  0.0\n",
            "A[ 6 ] =  0.0\n",
            "A[ 7 ] =  0.0\n",
            "A[ 8 ] =  74.046875\n",
            "A[ 9 ] =  84.3750000000001\n",
            "A[ 10 ] =  15.0\n",
            "A[ 11 ] =  16.0\n",
            "A[ 12 ] =  9.0\n",
            "A[ 13 ] =  17.5\n",
            "A[ 14 ] =  12.0\n",
            "A[ 15 ] =  18.5\n",
            "A[ 16 ] =  2.5\n",
            "A[ 17 ] =  0.5\n",
            "A[ 18 ] =  9.5\n",
            "A[ 19 ] =  8.0\n",
            "constraints : Size=3\n",
            "    Key : Lower              : Body               : Upper\n",
            "      1 : 116.87500000000001 : 116.87500000000006 : 116.87500000000001\n",
            "      2 : 244.37499999999997 :            244.375 : 244.37499999999997\n",
            "      3 :              63.75 :              63.75 :              63.75\n"
          ]
        }
      ]
    },
    {
      "cell_type": "markdown",
      "source": [
        "$ \\Huge{solution \\ \\ of \\ \\ 3.3} \\\\ \\huge{optimal \\ \\ objective \\ \\ function \\ \\  value \\ \\  =  \\ \\ 28747.187500000007} \\\\ \\huge{optimal \\ \\ values \\ \\ of \\ \\  decision \\ \\ variable} \\\\  x_1 = 158.078125 \\\\ x_2 = 0 \\\\ x_3 = 0 \\\\ x_4 = 0 \\\\ x_5 =0 \\\\ x_6 = 0 \\\\ x_7 = 0 \\\\ x_8 = 0 \\\\ x_9 = 74.046875 \\\\ x_10 = 84.3750000000001 \\\\ y_1 =15.0 \\\\ y_2 = 16.0 \\\\ y_3 = 9.0 \\\\ y_4 = 17.5 \\\\ y_5 = 12.0 \\\\ y_6 = 18.5 \\\\ y_7 = 2.5 \\\\ y_8 = 0.5 \\\\ y_9 = 9.5 \\\\ y_10 = 8.0 $"
      ],
      "metadata": {
        "id": "TXX2AE-B-LNZ"
      }
    },
    {
      "cell_type": "markdown",
      "source": [
        "$ \\huge{solution \\ \\ \\ of \\ \\ 3.4} \\ \\ \\\\ \\\\ \\text{ A-1 > A-10 > A-9 ranked high in term of quantity} \\\\ \\ \\text{A-2 A-3 A-4 are ranked low}$"
      ],
      "metadata": {
        "id": "9a0JXHzwAAt7"
      }
    },
    {
      "cell_type": "markdown",
      "source": [
        "$ \\Huge{solution \\ \\ of \\ \\ 3.5} \\ \\\\ \\text{yes A-1 A-2 A-3 A-4 A-5 A-6 A-7 A-8  A-9 A-10 STOCK are completely utilized} \\\\ \\text{since in optimal solution we used all stock available of these alloy}$"
      ],
      "metadata": {
        "id": "xz4fGHAXAOGh"
      }
    },
    {
      "cell_type": "markdown",
      "source": [
        "$ \\huge{solution \\ \\ of \\ \\ 3.6 } \\\\ \\\\ \\text{yes A-2 A-3 A-4 A-5 A-6 A-7 A-8 need not be aquired from market} \\\\ \\text{since in optimal solution  required criteria fullfill by in house stock} $"
      ],
      "metadata": {
        "id": "Ck2dpcXhAjvw"
      }
    }
  ]
}