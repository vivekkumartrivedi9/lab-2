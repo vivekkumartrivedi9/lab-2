{
  "nbformat": 4,
  "nbformat_minor": 0,
  "metadata": {
    "colab": {
      "name": "22N0457_IE507_Lab2_Ex1.ipynb",
      "provenance": [],
      "collapsed_sections": []
    },
    "kernelspec": {
      "name": "python3",
      "display_name": "Python 3"
    },
    "language_info": {
      "name": "python"
    }
  },
  "cells": [
    {
      "cell_type": "code",
      "execution_count": null,
      "metadata": {
        "id": "i-qg-8ZW5eOw",
        "outputId": "0536e6cf-c3b9-40ed-aad2-85a8be0c9a22",
        "colab": {
          "base_uri": "https://localhost:8080/"
        }
      },
      "outputs": [
        {
          "output_type": "stream",
          "name": "stdout",
          "text": [
            "\u001b[K     |████████████████████████████████| 9.6 MB 33.8 MB/s \n",
            "\u001b[K     |████████████████████████████████| 49 kB 5.7 MB/s \n",
            "\u001b[?25h"
          ]
        }
      ],
      "source": [
        "!pip install -q pyomo"
      ]
    },
    {
      "cell_type": "code",
      "source": [
        "from pyomo.environ import *"
      ],
      "metadata": {
        "id": "DbN_1pTI6Pzn"
      },
      "execution_count": null,
      "outputs": []
    },
    {
      "cell_type": "code",
      "source": [
        "import numpy as np"
      ],
      "metadata": {
        "id": "CdETkgQj6YWJ"
      },
      "execution_count": null,
      "outputs": []
    },
    {
      "cell_type": "code",
      "source": [
        "#create model\n",
        "model1 = ConcreteModel()"
      ],
      "metadata": {
        "id": "-HbP5TDh6b3i"
      },
      "execution_count": null,
      "outputs": []
    },
    {
      "cell_type": "code",
      "source": [
        "#no of variable\n",
        "N = 14"
      ],
      "metadata": {
        "id": "jrGlBYpk7FZe"
      },
      "execution_count": null,
      "outputs": []
    },
    {
      "cell_type": "code",
      "source": [
        "#coefficient of objective function\n",
        "obj_coef_c = np.array([-4.2,37.75,3.5,10.05,-8.25,40.85,0.05,-11.12,0.65,20.725,-102.65,0.6,-9.45,-25.625])\n"
      ],
      "metadata": {
        "id": "r2gbeU7N7Xee"
      },
      "execution_count": null,
      "outputs": []
    },
    {
      "cell_type": "code",
      "source": [
        "#coefficient of constraint\n",
        "constr1_coef = np.array([1,1,1,1,1,1,1,1,1,1,1,1,1,1])\n",
        "constr2_coef_w = np.array([2.8,-0.6725,3.6,0,-2.02,1.01,-4.305,0,1,-2.09,0,-2.124,-3.402,0])\n",
        "constr1_rhs_b1 = 343.48\n",
        "constr2_rhs_b2 = 66.2\n"
      ],
      "metadata": {
        "id": "FoNnkZ_e97e_"
      },
      "execution_count": null,
      "outputs": []
    },
    {
      "cell_type": "code",
      "source": [
        "#lower bound and upper bound\n",
        "lower_bound = np.array([2,-3,-np.inf,1,7,3,-9,0,1,-25.245,-np.inf,-6,-30.5,-10.8])\n",
        "upper_bound = np.array([np.inf,6,2.5,3.4,np.inf,6,4.1,np.inf,30,11,0,0,95,13.4])"
      ],
      "metadata": {
        "id": "svHkzsVgH_88"
      },
      "execution_count": null,
      "outputs": []
    },
    {
      "cell_type": "code",
      "source": [
        "col_indices = np.arange(N)"
      ],
      "metadata": {
        "id": "P0FlupkRJO5U"
      },
      "execution_count": null,
      "outputs": []
    },
    {
      "cell_type": "code",
      "source": [
        "model1.x = Var(col_indices)"
      ],
      "metadata": {
        "id": "BGoY86pbJegB"
      },
      "execution_count": null,
      "outputs": []
    },
    {
      "cell_type": "code",
      "source": [
        "model1.constraints = ConstraintList()"
      ],
      "metadata": {
        "id": "cigCdOhcJ3ok"
      },
      "execution_count": null,
      "outputs": []
    },
    {
      "cell_type": "code",
      "source": [
        "model1.constraints.add(sum(model1.x[j]*constr1_coef[j] for j in col_indices) <= constr1_rhs_b1)"
      ],
      "metadata": {
        "colab": {
          "base_uri": "https://localhost:8080/"
        },
        "id": "PE3fDa9TKDsA",
        "outputId": "002534cb-8a2a-4647-f483-8bc2b0304d98"
      },
      "execution_count": null,
      "outputs": [
        {
          "output_type": "execute_result",
          "data": {
            "text/plain": [
              "<pyomo.core.base.constraint._GeneralConstraintData at 0x7f61798b8fa0>"
            ]
          },
          "metadata": {},
          "execution_count": 12
        }
      ]
    },
    {
      "cell_type": "code",
      "source": [
        "model1.constraints.add(sum(model1.x[j]*constr2_coef_w[j] for j in col_indices) == constr2_rhs_b2)"
      ],
      "metadata": {
        "colab": {
          "base_uri": "https://localhost:8080/"
        },
        "id": "VHCXPVaWLjZr",
        "outputId": "300fac6d-bd80-45e6-f6c3-553697f45905"
      },
      "execution_count": null,
      "outputs": [
        {
          "output_type": "execute_result",
          "data": {
            "text/plain": [
              "<pyomo.core.base.constraint._GeneralConstraintData at 0x7f61798b8f30>"
            ]
          },
          "metadata": {},
          "execution_count": 13
        }
      ]
    },
    {
      "cell_type": "code",
      "source": [
        "#add upper lower bound for variable\n",
        "for j in col_indices:\n",
        "  model1.x[j].setlb(lower_bound[j])\n",
        "  model1.x[j].setub(upper_bound[j])\n",
        "\n",
        "\n"
      ],
      "metadata": {
        "id": "KkjvvkB6MLy0"
      },
      "execution_count": null,
      "outputs": []
    },
    {
      "cell_type": "code",
      "source": [
        "#ojective function\n",
        "model1.objective= Objective(expr = sum(model1.x[j]*obj_coef_c[j] for j in col_indices),sense =minimize)\n"
      ],
      "metadata": {
        "id": "vA4aIgzENMN5"
      },
      "execution_count": null,
      "outputs": []
    },
    {
      "cell_type": "code",
      "source": [
        "model1.pprint()"
      ],
      "metadata": {
        "colab": {
          "base_uri": "https://localhost:8080/"
        },
        "id": "ZRdqIICtN9b1",
        "outputId": "8cb1cc6f-d9ce-47aa-b25b-d3d2af4d7154"
      },
      "execution_count": null,
      "outputs": [
        {
          "output_type": "stream",
          "name": "stdout",
          "text": [
            "2 Set Declarations\n",
            "    constraints_index : Size=1, Index=None, Ordered=Insertion\n",
            "        Key  : Dimen : Domain : Size : Members\n",
            "        None :     1 :    Any :    2 : {1, 2}\n",
            "    x_index : Size=1, Index=None, Ordered=False\n",
            "        Key  : Dimen : Domain : Size : Members\n",
            "        None :     1 :    Any :   14 : {0, 1, 2, 3, 4, 5, 6, 7, 8, 9, 10, 11, 12, 13}\n",
            "\n",
            "1 Var Declarations\n",
            "    x : Size=14, Index=x_index\n",
            "        Key : Lower   : Value : Upper : Fixed : Stale : Domain\n",
            "          0 :     2.0 :  None :  None : False :  True :  Reals\n",
            "          1 :    -3.0 :  None :   6.0 : False :  True :  Reals\n",
            "          2 :    None :  None :   2.5 : False :  True :  Reals\n",
            "          3 :     1.0 :  None :   3.4 : False :  True :  Reals\n",
            "          4 :     7.0 :  None :  None : False :  True :  Reals\n",
            "          5 :     3.0 :  None :   6.0 : False :  True :  Reals\n",
            "          6 :    -9.0 :  None :   4.1 : False :  True :  Reals\n",
            "          7 :     0.0 :  None :  None : False :  True :  Reals\n",
            "          8 :     1.0 :  None :  30.0 : False :  True :  Reals\n",
            "          9 : -25.245 :  None :  11.0 : False :  True :  Reals\n",
            "         10 :    None :  None :   0.0 : False :  True :  Reals\n",
            "         11 :    -6.0 :  None :   0.0 : False :  True :  Reals\n",
            "         12 :   -30.5 :  None :  95.0 : False :  True :  Reals\n",
            "         13 :   -10.8 :  None :  13.4 : False :  True :  Reals\n",
            "\n",
            "1 Objective Declarations\n",
            "    objective : Size=1, Index=None, Active=True\n",
            "        Key  : Active : Sense    : Expression\n",
            "        None :   True : minimize : -4.2*x[0] + 37.75*x[1] + 3.5*x[2] + 10.05*x[3] - 8.25*x[4] + 40.85*x[5] + 0.05*x[6] - 11.12*x[7] + 0.65*x[8] + 20.725*x[9] - 102.65*x[10] + 0.6*x[11] - 9.45*x[12] - 25.625*x[13]\n",
            "\n",
            "1 Constraint Declarations\n",
            "    constraints : Size=2, Index=constraints_index, Active=True\n",
            "        Key : Lower : Body                                                                                                                  : Upper  : Active\n",
            "          1 :  -Inf :                   x[0] + x[1] + x[2] + x[3] + x[4] + x[5] + x[6] + x[7] + x[8] + x[9] + x[10] + x[11] + x[12] + x[13] : 343.48 :   True\n",
            "          2 :  66.2 : 2.8*x[0] - 0.6725*x[1] + 3.6*x[2] - 2.02*x[4] + 1.01*x[5] - 4.305*x[6] + x[8] - 2.09*x[9] - 2.124*x[11] - 3.402*x[12] :   66.2 :   True\n",
            "\n",
            "5 Declarations: x_index x constraints_index constraints objective\n"
          ]
        }
      ]
    },
    {
      "cell_type": "code",
      "source": [
        "!apt-get install -y -qq glpk-utils"
      ],
      "metadata": {
        "id": "HJp7VtvUOBcR",
        "outputId": "d8178ec2-962e-48f4-a3f9-364729a82bf8",
        "colab": {
          "base_uri": "https://localhost:8080/"
        }
      },
      "execution_count": null,
      "outputs": [
        {
          "output_type": "stream",
          "name": "stdout",
          "text": [
            "Selecting previously unselected package libsuitesparseconfig5:amd64.\n",
            "(Reading database ... 155680 files and directories currently installed.)\n",
            "Preparing to unpack .../libsuitesparseconfig5_1%3a5.1.2-2_amd64.deb ...\n",
            "Unpacking libsuitesparseconfig5:amd64 (1:5.1.2-2) ...\n",
            "Selecting previously unselected package libamd2:amd64.\n",
            "Preparing to unpack .../libamd2_1%3a5.1.2-2_amd64.deb ...\n",
            "Unpacking libamd2:amd64 (1:5.1.2-2) ...\n",
            "Selecting previously unselected package libcolamd2:amd64.\n",
            "Preparing to unpack .../libcolamd2_1%3a5.1.2-2_amd64.deb ...\n",
            "Unpacking libcolamd2:amd64 (1:5.1.2-2) ...\n",
            "Selecting previously unselected package libglpk40:amd64.\n",
            "Preparing to unpack .../libglpk40_4.65-1_amd64.deb ...\n",
            "Unpacking libglpk40:amd64 (4.65-1) ...\n",
            "Selecting previously unselected package glpk-utils.\n",
            "Preparing to unpack .../glpk-utils_4.65-1_amd64.deb ...\n",
            "Unpacking glpk-utils (4.65-1) ...\n",
            "Setting up libsuitesparseconfig5:amd64 (1:5.1.2-2) ...\n",
            "Setting up libcolamd2:amd64 (1:5.1.2-2) ...\n",
            "Setting up libamd2:amd64 (1:5.1.2-2) ...\n",
            "Setting up libglpk40:amd64 (4.65-1) ...\n",
            "Setting up glpk-utils (4.65-1) ...\n",
            "Processing triggers for libc-bin (2.27-3ubuntu1.5) ...\n",
            "Processing triggers for man-db (2.8.3-2ubuntu0.1) ...\n"
          ]
        }
      ]
    },
    {
      "cell_type": "code",
      "source": [
        "SolverFactory('glpk',excutable ='/usr/bin/glpsol').solve(model1).write()"
      ],
      "metadata": {
        "colab": {
          "base_uri": "https://localhost:8080/"
        },
        "id": "EC-F2f-dOdZV",
        "outputId": "56254252-d896-4b2a-8a35-a1db2e6e9c90"
      },
      "execution_count": null,
      "outputs": [
        {
          "output_type": "stream",
          "name": "stdout",
          "text": [
            "# ==========================================================\n",
            "# = Solver Results                                         =\n",
            "# ==========================================================\n",
            "# ----------------------------------------------------------\n",
            "#   Problem Information\n",
            "# ----------------------------------------------------------\n",
            "Problem: \n",
            "- Name: unknown\n",
            "  Lower bound: -14246.25704375\n",
            "  Upper bound: -14246.25704375\n",
            "  Number of objectives: 1\n",
            "  Number of constraints: 3\n",
            "  Number of variables: 15\n",
            "  Number of nonzeros: 25\n",
            "  Sense: minimize\n",
            "# ----------------------------------------------------------\n",
            "#   Solver Information\n",
            "# ----------------------------------------------------------\n",
            "Solver: \n",
            "- Status: ok\n",
            "  Termination condition: optimal\n",
            "  Statistics: \n",
            "    Branch and bound: \n",
            "      Number of bounded subproblems: 0\n",
            "      Number of created subproblems: 0\n",
            "  Error rc: 0\n",
            "  Time: 0.014539241790771484\n",
            "# ----------------------------------------------------------\n",
            "#   Solution Information\n",
            "# ----------------------------------------------------------\n",
            "Solution: \n",
            "- number of solutions: 0\n",
            "  number of solutions displayed: 0\n"
          ]
        }
      ]
    },
    {
      "cell_type": "code",
      "source": [
        "print('\\n objective',model1.objective())\n",
        "for i in col_indices:\n",
        "  print('x[',i,'] =',model1.x[i].value)\n",
        "print('\\n constraints')\n",
        "model1.constraints.display()"
      ],
      "metadata": {
        "colab": {
          "base_uri": "https://localhost:8080/"
        },
        "id": "GweOks5wUm8k",
        "outputId": "f63e12ac-b9b7-48e2-d26e-37017e5a86a1"
      },
      "execution_count": null,
      "outputs": [
        {
          "output_type": "stream",
          "name": "stdout",
          "text": [
            "\n",
            " objective -14246.257043750004\n",
            "x[ 0 ] = 2039.2619375\n",
            "x[ 1 ] = -3.0\n",
            "x[ 2 ] = -1623.2369375\n",
            "x[ 3 ] = 1.0\n",
            "x[ 4 ] = 7.0\n",
            "x[ 5 ] = 3.0\n",
            "x[ 6 ] = -9.0\n",
            "x[ 7 ] = 0.0\n",
            "x[ 8 ] = 1.0\n",
            "x[ 9 ] = -25.245\n",
            "x[ 10 ] = 0.0\n",
            "x[ 11 ] = -6.0\n",
            "x[ 12 ] = -30.5\n",
            "x[ 13 ] = -10.8\n",
            "\n",
            " constraints\n",
            "constraints : Size=2\n",
            "    Key : Lower : Body               : Upper\n",
            "      1 :  None : 343.47999999999985 : 343.48\n",
            "      2 :  66.2 :  66.19999999999925 :   66.2\n"
          ]
        }
      ]
    },
    {
      "cell_type": "markdown",
      "source": [
        "$ \\huge{optimal \\ \\ value \\ \\ of \\ \\ objective \\ \\ function = -14246.257043750004} \\\\ \\large{optimal \\ \\ value \\ \\ of  \\ \\ decision \\ \\ \\ variable } \\\\  x_1 =2039.2619375 \\\\ x_2 = -3.0 \\\\ x_3 = -1623.2369375 \\\\ x_4 = 1.0 \\\\ x_5 = 7.0  \\\\ x_6 = 3.0 \\\\ x_7 = -9.0  \\\\ x_8 =0.00 \\\\ x_9 =1.0 \\\\ x_10 = -25.245 \\\\ x_11 = 0.0 \\\\ x_12 = -6.0 \\\\ x_13 = -30.5 \\\\ x_14 = -10.8 $"
      ],
      "metadata": {
        "id": "rXT3ozuiSS_2"
      }
    }
  ]
}